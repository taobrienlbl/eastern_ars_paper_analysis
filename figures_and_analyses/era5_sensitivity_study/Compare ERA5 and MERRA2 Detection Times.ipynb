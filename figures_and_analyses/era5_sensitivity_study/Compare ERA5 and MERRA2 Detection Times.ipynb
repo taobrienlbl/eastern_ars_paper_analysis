{
 "cells": [
  {
   "cell_type": "code",
   "execution_count": 1,
   "metadata": {},
   "outputs": [],
   "source": [
    "import numpy as np"
   ]
  },
  {
   "cell_type": "code",
   "execution_count": 2,
   "metadata": {},
   "outputs": [],
   "source": [
    "\"\"\" Load both sets of indices. \"\"\"\n",
    "era5_indices = np.loadtxt(\"./era5_like_merra2_bloomington_ars_annual_teca_bard_v1.0.1.txt\").astype(int)\n",
    "merra2_indices = np.loadtxt(\"../merra2_index_files/bloomington_ars_annual_teca_bard_v1.0.1.txt\").astype(int)"
   ]
  },
  {
   "cell_type": "code",
   "execution_count": 3,
   "metadata": {},
   "outputs": [
    {
     "name": "stdout",
     "output_type": "stream",
     "text": [
      "Overlap:  548\n",
      "ERA5 not MERRA2:  106\n",
      "MERRA2 not ERA5:  541\n",
      "ERA5:  654\n",
      "MERRA2:  1089\n"
     ]
    }
   ],
   "source": [
    "\"\"\" Compare the indices to determine the amount of overlap. \"\"\"\n",
    "\n",
    "# which indices are in both\n",
    "overlap = np.intersect1d(era5_indices, merra2_indices)\n",
    "\n",
    "# how many indices are in both\n",
    "print(\"Overlap: \", len(overlap))\n",
    "\n",
    "# how many indices are in era5 but not merra2\n",
    "era5_not_merra2 = np.setdiff1d(era5_indices, merra2_indices)\n",
    "print(\"ERA5 not MERRA2: \", len(era5_not_merra2))\n",
    "\n",
    "# how many indices are in merra2 but not era5\n",
    "merra2_not_era5 = np.setdiff1d(merra2_indices, era5_indices)\n",
    "print(\"MERRA2 not ERA5: \", len(merra2_not_era5))\n",
    "\n",
    "# how many indices in ERA5 and MERRA2\n",
    "print(\"ERA5: \", len(era5_indices))\n",
    "print(\"MERRA2: \", len(merra2_indices))\n"
   ]
  },
  {
   "cell_type": "code",
   "execution_count": null,
   "metadata": {},
   "outputs": [],
   "source": []
  }
 ],
 "metadata": {
  "kernelspec": {
   "display_name": "Python 3",
   "language": "python",
   "name": "python3"
  },
  "language_info": {
   "codemirror_mode": {
    "name": "ipython",
    "version": 3
   },
   "file_extension": ".py",
   "mimetype": "text/x-python",
   "name": "python",
   "nbconvert_exporter": "python",
   "pygments_lexer": "ipython3",
   "version": "3.9.13"
  }
 },
 "nbformat": 4,
 "nbformat_minor": 2
}
